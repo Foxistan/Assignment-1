{
 "cells": [
  {
   "cell_type": "code",
   "execution_count": 190,
   "id": "9c259274-576a-4561-b445-189c0674a5dc",
   "metadata": {},
   "outputs": [
    {
     "name": "stdout",
     "output_type": "stream",
     "text": [
      "Q.1:- Create one variable containing following type of data:\n"
     ]
    }
   ],
   "source": [
    "print('Q.1:- Create one variable containing following type of data:')"
   ]
  },
  {
   "cell_type": "code",
   "execution_count": 191,
   "id": "d2505d52-4989-4f61-a8c5-b854e52aa9ff",
   "metadata": {},
   "outputs": [
    {
     "name": "stdout",
     "output_type": "stream",
     "text": [
      "ans\n"
     ]
    }
   ],
   "source": [
    "print('ans')"
   ]
  },
  {
   "cell_type": "code",
   "execution_count": 192,
   "id": "7ca91c1a-7996-4040-8c89-2c87cca01b51",
   "metadata": {},
   "outputs": [],
   "source": [
    "a = 'Tufail Khan'"
   ]
  },
  {
   "cell_type": "code",
   "execution_count": 193,
   "id": "3d561fbe-a547-42c4-89f5-933c1dbeddc5",
   "metadata": {},
   "outputs": [
    {
     "data": {
      "text/plain": [
       "str"
      ]
     },
     "execution_count": 193,
     "metadata": {},
     "output_type": "execute_result"
    }
   ],
   "source": [
    "type(a)"
   ]
  },
  {
   "cell_type": "code",
   "execution_count": 194,
   "id": "71618bd0-91ed-457a-a711-6b1933bdc73e",
   "metadata": {},
   "outputs": [],
   "source": [
    "b = ('Tufail', 'Khan', 'Age', 22, 69.69j)"
   ]
  },
  {
   "cell_type": "code",
   "execution_count": 195,
   "id": "d6144d4a-e3ef-4bfe-b34f-af8021193a23",
   "metadata": {},
   "outputs": [
    {
     "data": {
      "text/plain": [
       "tuple"
      ]
     },
     "execution_count": 195,
     "metadata": {},
     "output_type": "execute_result"
    }
   ],
   "source": [
    "type(b)"
   ]
  },
  {
   "cell_type": "code",
   "execution_count": 196,
   "id": "92a9f1ad-cc51-4b0d-a840-b7fbf9893898",
   "metadata": {},
   "outputs": [
    {
     "name": "stdout",
     "output_type": "stream",
     "text": [
      "Q.2:- Given are some following variables containing data, What will be the data type of the above given variable.\n"
     ]
    }
   ],
   "source": [
    "print('Q.2:- Given are some following variables containing data, What will be the data type of the above given variable.')"
   ]
  },
  {
   "cell_type": "code",
   "execution_count": 197,
   "id": "db5af89b-5bc6-4c5d-98e0-1eb99172776e",
   "metadata": {},
   "outputs": [
    {
     "name": "stdout",
     "output_type": "stream",
     "text": [
      "Ans\n"
     ]
    }
   ],
   "source": [
    "print('Ans')"
   ]
  },
  {
   "cell_type": "code",
   "execution_count": 198,
   "id": "21ba8183-2ddb-4cb1-b81c-54c9f687cb05",
   "metadata": {},
   "outputs": [],
   "source": [
    "var1 = ''"
   ]
  },
  {
   "cell_type": "code",
   "execution_count": 199,
   "id": "a3c2e69c-ba91-4c72-b963-a16ba5284a7c",
   "metadata": {},
   "outputs": [
    {
     "data": {
      "text/plain": [
       "str"
      ]
     },
     "execution_count": 199,
     "metadata": {},
     "output_type": "execute_result"
    }
   ],
   "source": [
    "type(var1)"
   ]
  },
  {
   "cell_type": "code",
   "execution_count": 200,
   "id": "b0daa68c-ab7d-468c-837e-7a1264e27100",
   "metadata": {},
   "outputs": [],
   "source": [
    "var2 = '[ DS , ML , Python]'"
   ]
  },
  {
   "cell_type": "code",
   "execution_count": 201,
   "id": "1a488673-cd49-4abb-9dfc-f4ffc600ffc9",
   "metadata": {},
   "outputs": [
    {
     "data": {
      "text/plain": [
       "str"
      ]
     },
     "execution_count": 201,
     "metadata": {},
     "output_type": "execute_result"
    }
   ],
   "source": [
    "type(var2)"
   ]
  },
  {
   "cell_type": "code",
   "execution_count": 202,
   "id": "32776af2-f4e9-4181-bd7f-04c2d2337337",
   "metadata": {},
   "outputs": [],
   "source": [
    "var3 = [ 'DS' , 'ML' , 'Python']"
   ]
  },
  {
   "cell_type": "code",
   "execution_count": 203,
   "id": "1aa58e49-8714-4bed-bbf9-4463a209a42a",
   "metadata": {},
   "outputs": [
    {
     "data": {
      "text/plain": [
       "list"
      ]
     },
     "execution_count": 203,
     "metadata": {},
     "output_type": "execute_result"
    }
   ],
   "source": [
    "type(var3)"
   ]
  },
  {
   "cell_type": "code",
   "execution_count": 204,
   "id": "e8d53cd4-6e02-4eb4-ac8e-4bc0c2002765",
   "metadata": {},
   "outputs": [],
   "source": [
    "var4 = 1."
   ]
  },
  {
   "cell_type": "code",
   "execution_count": 205,
   "id": "72f6a967-0ee7-46e8-b416-cbc337e4813c",
   "metadata": {},
   "outputs": [
    {
     "data": {
      "text/plain": [
       "float"
      ]
     },
     "execution_count": 205,
     "metadata": {},
     "output_type": "execute_result"
    }
   ],
   "source": [
    "type(var4)"
   ]
  },
  {
   "cell_type": "code",
   "execution_count": 206,
   "id": "e30cf47d-352e-4fd8-99db-fe1efb55a4d5",
   "metadata": {},
   "outputs": [
    {
     "name": "stdout",
     "output_type": "stream",
     "text": [
      "Q.3:- Explain the use of the following operators using an example:\n"
     ]
    }
   ],
   "source": [
    "print('Q.3:- Explain the use of the following operators using an example:')"
   ]
  },
  {
   "cell_type": "code",
   "execution_count": 207,
   "id": "6afaa457-cda8-41ce-b516-116eed39947a",
   "metadata": {},
   "outputs": [
    {
     "name": "stdout",
     "output_type": "stream",
     "text": [
      "Ans\n"
     ]
    }
   ],
   "source": [
    "print('Ans')"
   ]
  },
  {
   "cell_type": "code",
   "execution_count": 208,
   "id": "19e33e27-e1fc-4478-8ddd-087eb9077acc",
   "metadata": {},
   "outputs": [
    {
     "name": "stdout",
     "output_type": "stream",
     "text": [
      "\"/\" This is used arithmetic operator used for division\n"
     ]
    }
   ],
   "source": [
    "print('\"/\" This is used arithmetic operator used for division')"
   ]
  },
  {
   "cell_type": "code",
   "execution_count": 209,
   "id": "78b9cba5-06cb-4e07-b0bf-53a4e198ff3f",
   "metadata": {},
   "outputs": [
    {
     "data": {
      "text/plain": [
       "25.0"
      ]
     },
     "execution_count": 209,
     "metadata": {},
     "output_type": "execute_result"
    }
   ],
   "source": [
    "100/4"
   ]
  },
  {
   "cell_type": "code",
   "execution_count": 210,
   "id": "ac9504e4-d95f-452a-9105-84d5999e5901",
   "metadata": {},
   "outputs": [
    {
     "name": "stdout",
     "output_type": "stream",
     "text": [
      "\"%\" This is remainder operator (sub operator of arithmetic operator)this operator will give you the remainder value like 10 % 3 would be 1\n"
     ]
    }
   ],
   "source": [
    "print('\"%\" This is remainder operator (sub operator of arithmetic operator)this operator will give you the remainder value like 10 % 3 would be 1')"
   ]
  },
  {
   "cell_type": "code",
   "execution_count": 211,
   "id": "ff98d321-10e1-4239-9abb-0b365eb9df1e",
   "metadata": {},
   "outputs": [
    {
     "data": {
      "text/plain": [
       "1"
      ]
     },
     "execution_count": 211,
     "metadata": {},
     "output_type": "execute_result"
    }
   ],
   "source": [
    "10%3"
   ]
  },
  {
   "cell_type": "code",
   "execution_count": 212,
   "id": "bca38f18-7144-48da-a59d-091010ea279d",
   "metadata": {},
   "outputs": [
    {
     "name": "stdout",
     "output_type": "stream",
     "text": [
      "\"//\" This is floor division operator(sub operator of arithmetic operator) Performs division and rounds down to the nearest integer\n"
     ]
    }
   ],
   "source": [
    "print('\"//\" This is floor division operator(sub operator of arithmetic operator) Performs division and rounds down to the nearest integer')"
   ]
  },
  {
   "cell_type": "code",
   "execution_count": 213,
   "id": "2a545193-96b2-48d4-bbee-9f2f08a6434b",
   "metadata": {},
   "outputs": [
    {
     "data": {
      "text/plain": [
       "3"
      ]
     },
     "execution_count": 213,
     "metadata": {},
     "output_type": "execute_result"
    }
   ],
   "source": [
    "10//3"
   ]
  },
  {
   "cell_type": "code",
   "execution_count": 214,
   "id": "15f48a46-58e5-4c4d-847f-48b234bf671f",
   "metadata": {},
   "outputs": [
    {
     "name": "stdout",
     "output_type": "stream",
     "text": [
      "\"**\" This is power operator or Exponentiation operator (sub operator of arithmetic operator)Raises the left operand to the power of the right operand\n"
     ]
    }
   ],
   "source": [
    "print('\"**\" This is power operator or Exponentiation operator (sub operator of arithmetic operator)Raises the left operand to the power of the right operand')"
   ]
  },
  {
   "cell_type": "code",
   "execution_count": 215,
   "id": "9ff42369-6582-4bfa-af7f-e6e0dae9a136",
   "metadata": {},
   "outputs": [
    {
     "data": {
      "text/plain": [
       "1000"
      ]
     },
     "execution_count": 215,
     "metadata": {},
     "output_type": "execute_result"
    }
   ],
   "source": [
    "10**3"
   ]
  },
  {
   "cell_type": "code",
   "execution_count": 216,
   "id": "cd234c6d-91c8-42a2-943d-2b8a344ebf55",
   "metadata": {},
   "outputs": [
    {
     "name": "stdout",
     "output_type": "stream",
     "text": [
      "Q.4:- Create a list of length 10 of your choice containing multiple types of data. Using for loop print the element and its data type\n"
     ]
    }
   ],
   "source": [
    "print('Q.4:- Create a list of length 10 of your choice containing multiple types of data. Using for loop print the element and its data type')"
   ]
  },
  {
   "cell_type": "code",
   "execution_count": 217,
   "id": "f29cde7a-045b-4a8c-af7a-31823ae07fec",
   "metadata": {},
   "outputs": [
    {
     "name": "stdout",
     "output_type": "stream",
     "text": [
      "Answer\n"
     ]
    }
   ],
   "source": [
    "print('Answer')"
   ]
  },
  {
   "cell_type": "code",
   "execution_count": 218,
   "id": "41ae13c2-76ad-4791-b257-e100ea53c582",
   "metadata": {},
   "outputs": [],
   "source": [
    "a = (\"Tufail\",\"Khan\", 1, 2, True, False, 6.09, 82.82j,['Tufail', 'Khan',], ['Comcpleting','Assignment'])"
   ]
  },
  {
   "cell_type": "code",
   "execution_count": 219,
   "id": "5ed427ce-db25-446a-98bb-7a9aabdceb4b",
   "metadata": {},
   "outputs": [
    {
     "name": "stdout",
     "output_type": "stream",
     "text": [
      "Tufail\n",
      "Khan\n",
      "1\n",
      "2\n",
      "True\n",
      "False\n",
      "6.09\n",
      "82.82j\n",
      "['Tufail', 'Khan']\n",
      "['Comcpleting', 'Assignment']\n"
     ]
    }
   ],
   "source": [
    "for x in a:\n",
    "    print(x)"
   ]
  },
  {
   "cell_type": "code",
   "execution_count": 220,
   "id": "3e21522d-3d16-4f1c-9512-d129bf8c83bc",
   "metadata": {},
   "outputs": [
    {
     "data": {
      "text/plain": [
       "tuple"
      ]
     },
     "execution_count": 220,
     "metadata": {},
     "output_type": "execute_result"
    }
   ],
   "source": [
    "type(a)"
   ]
  },
  {
   "cell_type": "code",
   "execution_count": 221,
   "id": "113635df-9b38-4201-b882-72d09ee21790",
   "metadata": {},
   "outputs": [
    {
     "data": {
      "text/plain": [
       "str"
      ]
     },
     "execution_count": 221,
     "metadata": {},
     "output_type": "execute_result"
    }
   ],
   "source": [
    "type(\"tufail\")"
   ]
  },
  {
   "cell_type": "code",
   "execution_count": 222,
   "id": "28dfe0b6-eaec-420e-92c8-2ca19749a0e9",
   "metadata": {},
   "outputs": [
    {
     "data": {
      "text/plain": [
       "str"
      ]
     },
     "execution_count": 222,
     "metadata": {},
     "output_type": "execute_result"
    }
   ],
   "source": [
    "type(\"Khan\")"
   ]
  },
  {
   "cell_type": "code",
   "execution_count": 223,
   "id": "c705ffcc-8bad-4263-8c04-a63d189586ae",
   "metadata": {},
   "outputs": [
    {
     "data": {
      "text/plain": [
       "int"
      ]
     },
     "execution_count": 223,
     "metadata": {},
     "output_type": "execute_result"
    }
   ],
   "source": [
    "type(1)"
   ]
  },
  {
   "cell_type": "code",
   "execution_count": 224,
   "id": "6e93654f-4ebd-4504-be7f-eb90d0f45ae0",
   "metadata": {},
   "outputs": [
    {
     "data": {
      "text/plain": [
       "int"
      ]
     },
     "execution_count": 224,
     "metadata": {},
     "output_type": "execute_result"
    }
   ],
   "source": [
    "type(2)"
   ]
  },
  {
   "cell_type": "code",
   "execution_count": 225,
   "id": "f7f6dd69-1e6f-4b3b-9f99-0fea8f3275f8",
   "metadata": {},
   "outputs": [
    {
     "data": {
      "text/plain": [
       "bool"
      ]
     },
     "execution_count": 225,
     "metadata": {},
     "output_type": "execute_result"
    }
   ],
   "source": [
    "type(True)"
   ]
  },
  {
   "cell_type": "code",
   "execution_count": 226,
   "id": "a2563769-e8cb-4647-b385-290876f92a26",
   "metadata": {},
   "outputs": [
    {
     "data": {
      "text/plain": [
       "bool"
      ]
     },
     "execution_count": 226,
     "metadata": {},
     "output_type": "execute_result"
    }
   ],
   "source": [
    "type(False)"
   ]
  },
  {
   "cell_type": "code",
   "execution_count": 227,
   "id": "5f3e7286-14bf-4005-a308-248937b990e1",
   "metadata": {},
   "outputs": [
    {
     "data": {
      "text/plain": [
       "float"
      ]
     },
     "execution_count": 227,
     "metadata": {},
     "output_type": "execute_result"
    }
   ],
   "source": [
    "type(6.09)"
   ]
  },
  {
   "cell_type": "code",
   "execution_count": 228,
   "id": "e5eec93d-edbe-4dbc-8903-0d0b25d0133a",
   "metadata": {},
   "outputs": [
    {
     "data": {
      "text/plain": [
       "complex"
      ]
     },
     "execution_count": 228,
     "metadata": {},
     "output_type": "execute_result"
    }
   ],
   "source": [
    "type(82.82j)"
   ]
  },
  {
   "cell_type": "code",
   "execution_count": 229,
   "id": "3b3918d9-ad19-4209-843a-6c0617d0652d",
   "metadata": {},
   "outputs": [
    {
     "data": {
      "text/plain": [
       "list"
      ]
     },
     "execution_count": 229,
     "metadata": {},
     "output_type": "execute_result"
    }
   ],
   "source": [
    "type(['Tufail', 'Khan'])"
   ]
  },
  {
   "cell_type": "code",
   "execution_count": 230,
   "id": "94d428e4-eb34-4cb4-be37-c7b5a2a3f779",
   "metadata": {},
   "outputs": [
    {
     "data": {
      "text/plain": [
       "list"
      ]
     },
     "execution_count": 230,
     "metadata": {},
     "output_type": "execute_result"
    }
   ],
   "source": [
    "type(['Comcpleting','Assignment'])"
   ]
  },
  {
   "cell_type": "code",
   "execution_count": 231,
   "id": "201419b1-ec29-442c-9d24-8342b45a0c47",
   "metadata": {},
   "outputs": [
    {
     "name": "stdout",
     "output_type": "stream",
     "text": [
      "Q.5:- Using a while loop, verify if the number A is purely divisible by number B and if so then how many times it can be divisible\n"
     ]
    }
   ],
   "source": [
    "print('Q.5:- Using a while loop, verify if the number A is purely divisible by number B and if so then how many times it can be divisible')"
   ]
  },
  {
   "cell_type": "code",
   "execution_count": 232,
   "id": "9e184e26-438c-45a9-bc0d-17d1b3744fc2",
   "metadata": {},
   "outputs": [
    {
     "name": "stdout",
     "output_type": "stream",
     "text": [
      "Answer\n"
     ]
    }
   ],
   "source": [
    "print(\"Answer\")"
   ]
  },
  {
   "cell_type": "code",
   "execution_count": 233,
   "id": "eeffb525-ffee-403d-814b-bb174bc6e5e7",
   "metadata": {},
   "outputs": [],
   "source": [
    "a = 120\n",
    "b = 5\n",
    "x = 0"
   ]
  },
  {
   "cell_type": "code",
   "execution_count": 234,
   "id": "49703e1a-212d-466e-ad55-03cecd099c6c",
   "metadata": {},
   "outputs": [
    {
     "name": "stdout",
     "output_type": "stream",
     "text": [
      "1\n",
      "2\n",
      "3\n",
      "4\n",
      "5\n",
      "6\n",
      "7\n",
      "8\n",
      "9\n",
      "10\n",
      "11\n",
      "12\n",
      "13\n",
      "14\n",
      "15\n",
      "16\n",
      "17\n",
      "18\n",
      "19\n",
      "20\n",
      "21\n",
      "22\n",
      "23\n",
      "24\n"
     ]
    }
   ],
   "source": [
    "while a>=b:\n",
    "    a -= b\n",
    "    x += 1\n",
    "    print(x)"
   ]
  },
  {
   "cell_type": "code",
   "execution_count": 235,
   "id": "c48f0190-91de-43c4-9c1e-4d599c035519",
   "metadata": {},
   "outputs": [
    {
     "name": "stdout",
     "output_type": "stream",
     "text": [
      "Q.6:- Create a list containing 25 int type data. Using for loop and if-else condition print if the element isdivisible by 3 or not\n"
     ]
    }
   ],
   "source": [
    "print('Q.6:- Create a list containing 25 int type data. Using for loop and if-else condition print if the element isdivisible by 3 or not')"
   ]
  },
  {
   "cell_type": "code",
   "execution_count": 236,
   "id": "f501b69d-c35a-4e79-80c6-8e3663a8e661",
   "metadata": {},
   "outputs": [
    {
     "name": "stdout",
     "output_type": "stream",
     "text": [
      "Answer\n"
     ]
    }
   ],
   "source": [
    "print('Answer')"
   ]
  },
  {
   "cell_type": "code",
   "execution_count": 237,
   "id": "a4136cb1-ec32-4ca1-a646-be0365fcc6ed",
   "metadata": {},
   "outputs": [],
   "source": [
    "x = [1,64,2,1,13,179,16,168,186,12,1,16,161,31,79,45,67,59,42,78,14,67,25,85,25]"
   ]
  },
  {
   "cell_type": "code",
   "execution_count": 238,
   "id": "11bdde92-016d-4051-80ff-62655dff1287",
   "metadata": {},
   "outputs": [
    {
     "name": "stdout",
     "output_type": "stream",
     "text": [
      "1 not divisible by 3\n",
      "64 not divisible by 3\n",
      "2 not divisible by 3\n",
      "1 not divisible by 3\n",
      "13 not divisible by 3\n",
      "179 not divisible by 3\n",
      "16 not divisible by 3\n",
      "168 divisible by 3\n",
      "186 divisible by 3\n",
      "12 divisible by 3\n",
      "1 not divisible by 3\n",
      "16 not divisible by 3\n",
      "161 not divisible by 3\n",
      "31 not divisible by 3\n",
      "79 not divisible by 3\n",
      "45 divisible by 3\n",
      "67 not divisible by 3\n",
      "59 not divisible by 3\n",
      "42 divisible by 3\n",
      "78 divisible by 3\n",
      "14 not divisible by 3\n",
      "67 not divisible by 3\n",
      "25 not divisible by 3\n",
      "85 not divisible by 3\n",
      "25 not divisible by 3\n"
     ]
    }
   ],
   "source": [
    "for num in x:\n",
    "    if num%3==0:\n",
    "        print(num, \"divisible by 3\")\n",
    "    else:\n",
    "            print(num, \"not divisible by 3\")"
   ]
  },
  {
   "cell_type": "code",
   "execution_count": 239,
   "id": "f0dcfea5-f5bc-4d20-954b-99af34a5e384",
   "metadata": {},
   "outputs": [
    {
     "name": "stdout",
     "output_type": "stream",
     "text": [
      "Q7. What do you understand about mutable and immutable data types? Give examples for both showingthis property\n"
     ]
    }
   ],
   "source": [
    "print('Q7. What do you understand about mutable and immutable data types? Give examples for both showingthis property')"
   ]
  },
  {
   "cell_type": "code",
   "execution_count": 240,
   "id": "e21ce7a6-b84a-4840-85dc-3a8dfa01ae93",
   "metadata": {},
   "outputs": [
    {
     "name": "stdout",
     "output_type": "stream",
     "text": [
      "Answer\n"
     ]
    }
   ],
   "source": [
    "print('Answer')"
   ]
  },
  {
   "cell_type": "code",
   "execution_count": 241,
   "id": "e41db5d9-13d9-4907-a8a7-92db4953e258",
   "metadata": {},
   "outputs": [
    {
     "name": "stdout",
     "output_type": "stream",
     "text": [
      "Objects are those whose state or value can be changed after they are created is called mutable\n"
     ]
    }
   ],
   "source": [
    "print('Objects are those whose state or value can be changed after they are created is called mutable')"
   ]
  },
  {
   "cell_type": "code",
   "execution_count": 242,
   "id": "6a8e38ce-9cde-4042-bc1b-1c85a17a5355",
   "metadata": {},
   "outputs": [
    {
     "name": "stdout",
     "output_type": "stream",
     "text": [
      "for eg:- \n"
     ]
    }
   ],
   "source": [
    "print('for eg:- ')"
   ]
  },
  {
   "cell_type": "code",
   "execution_count": 243,
   "id": "5401d4ef-3b24-4d69-8a8c-13d9cb72d716",
   "metadata": {},
   "outputs": [],
   "source": [
    "a = [1,2,3,4,]"
   ]
  },
  {
   "cell_type": "code",
   "execution_count": 244,
   "id": "e7f5b0c6-3899-4df0-8e66-c9f0bdfaf9e5",
   "metadata": {},
   "outputs": [],
   "source": [
    "a[2] = 5"
   ]
  },
  {
   "cell_type": "code",
   "execution_count": 245,
   "id": "11a44365-8aa2-4388-9ce2-67935a37151a",
   "metadata": {},
   "outputs": [
    {
     "data": {
      "text/plain": [
       "[1, 2, 5, 4]"
      ]
     },
     "execution_count": 245,
     "metadata": {},
     "output_type": "execute_result"
    }
   ],
   "source": [
    "a"
   ]
  },
  {
   "cell_type": "code",
   "execution_count": 246,
   "id": "88bc5a24-03c9-43a2-b7fc-23a86b8c3b31",
   "metadata": {},
   "outputs": [
    {
     "name": "stdout",
     "output_type": "stream",
     "text": [
      "Objects are those whose state or value cannot be changed after they are created is called mutable\n"
     ]
    }
   ],
   "source": [
    "print('Objects are those whose state or value cannot be changed after they are created is called mutable')"
   ]
  },
  {
   "cell_type": "code",
   "execution_count": 247,
   "id": "a9d50203-152e-4e61-9a0e-35576cbcba21",
   "metadata": {},
   "outputs": [
    {
     "name": "stdout",
     "output_type": "stream",
     "text": [
      "for eg:- \n"
     ]
    }
   ],
   "source": [
    "print('for eg:- ')"
   ]
  },
  {
   "cell_type": "code",
   "execution_count": 248,
   "id": "ac66cfa7-8895-4fb8-9d30-890c5c6cee92",
   "metadata": {},
   "outputs": [],
   "source": [
    "b = ['Foxistan']"
   ]
  },
  {
   "cell_type": "code",
   "execution_count": 250,
   "id": "b2f25f7d-3d8b-4299-865f-3631cdb4fab6",
   "metadata": {},
   "outputs": [
    {
     "data": {
      "text/plain": [
       "['Foxistan']"
      ]
     },
     "execution_count": 250,
     "metadata": {},
     "output_type": "execute_result"
    }
   ],
   "source": [
    "b"
   ]
  },
  {
   "cell_type": "code",
   "execution_count": 251,
   "id": "06897e46-1fb6-4cf1-a3d0-000e1530b6f6",
   "metadata": {},
   "outputs": [
    {
     "ename": "NameError",
     "evalue": "name 'p' is not defined",
     "output_type": "error",
     "traceback": [
      "\u001b[0;31m---------------------------------------------------------------------------\u001b[0m",
      "\u001b[0;31mNameError\u001b[0m                                 Traceback (most recent call last)",
      "Cell \u001b[0;32mIn[251], line 1\u001b[0m\n\u001b[0;32m----> 1\u001b[0m b[\u001b[38;5;241m3\u001b[39m] \u001b[38;5;241m=\u001b[39m \u001b[43mp\u001b[49m\n",
      "\u001b[0;31mNameError\u001b[0m: name 'p' is not defined"
     ]
    }
   ],
   "source": [
    "b[3] = p"
   ]
  }
 ],
 "metadata": {
  "kernelspec": {
   "display_name": "Python 3 (ipykernel)",
   "language": "python",
   "name": "python3"
  },
  "language_info": {
   "codemirror_mode": {
    "name": "ipython",
    "version": 3
   },
   "file_extension": ".py",
   "mimetype": "text/x-python",
   "name": "python",
   "nbconvert_exporter": "python",
   "pygments_lexer": "ipython3",
   "version": "3.10.8"
  }
 },
 "nbformat": 4,
 "nbformat_minor": 5
}
